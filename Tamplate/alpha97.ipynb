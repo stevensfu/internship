{
 "cells": [
  {
   "cell_type": "code",
   "execution_count": 3,
   "metadata": {},
   "outputs": [],
   "source": [
    "def alpha97(dv, param = None):\n",
    "    defult_param = {'t1': 10}\n",
    "    if not param:\n",
    "        param = defult_param\n",
    "    \n",
    "    t = param['t1']\n",
    "    alpha97 = dv.add_formula('alpha97', 'StdDev(volume, %s)'%(t), add_data = False, is_quarterly = False)\n",
    "    return(alpha97)"
   ]
  }
 ],
 "metadata": {
  "kernelspec": {
   "display_name": "Python 3",
   "language": "python",
   "name": "python3"
  },
  "language_info": {
   "codemirror_mode": {
    "name": "ipython",
    "version": 3
   },
   "file_extension": ".py",
   "mimetype": "text/x-python",
   "name": "python",
   "nbconvert_exporter": "python",
   "pygments_lexer": "ipython3",
   "version": "3.5.4"
  }
 },
 "nbformat": 4,
 "nbformat_minor": 2
}
