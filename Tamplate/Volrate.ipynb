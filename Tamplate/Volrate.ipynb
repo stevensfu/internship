{
 "cells": [
  {
   "cell_type": "code",
   "execution_count": 3,
   "metadata": {
    "collapsed": true
   },
   "outputs": [],
   "source": [
    "def run_formula(dv, param = None):\n",
    "    defult_param = {'t1': 1}\n",
    "    if not param:\n",
    "        param = defult_param\n",
    "    Volrate =  dv.add_formula('Volrate', '-((VOL10/VOL60) > %s)'%(param['t1']), add_data = False, is_quarterly = False)\n",
    "    return(Volrate)"
   ]
  },
  {
   "cell_type": "code",
   "execution_count": null,
   "metadata": {
    "collapsed": true
   },
   "outputs": [],
   "source": []
  }
 ],
 "metadata": {
  "kernelspec": {
   "display_name": "Python 3",
   "language": "python",
   "name": "python3"
  },
  "language_info": {
   "codemirror_mode": {
    "name": "ipython",
    "version": 3
   },
   "file_extension": ".py",
   "mimetype": "text/x-python",
   "name": "python",
   "nbconvert_exporter": "python",
   "pygments_lexer": "ipython3",
   "version": "3.5.4"
  }
 },
 "nbformat": 4,
 "nbformat_minor": 2
}
