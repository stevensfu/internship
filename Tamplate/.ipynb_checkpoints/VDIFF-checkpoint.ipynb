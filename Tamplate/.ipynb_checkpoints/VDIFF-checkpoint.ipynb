{
 "cells": [
  {
   "cell_type": "code",
   "execution_count": 3,
   "metadata": {},
   "outputs": [],
   "source": [
    "import pandas as pd\n",
    "import talib\n",
    "def run_formula(dv, param = None):\n",
    "    volume1 = dv.get_ts('volume').dropna(how = 'all', axis = 1)\n",
    "    data1 = []\n",
    "    for sec_symbols, value in volume1.iteritems():\n",
    "        data1.append(sec_symbols)\n",
    "    data2 = {}\n",
    "    for sec_symbols, value in volume1.iteritems():\n",
    "        data2[sec_symbols] = value.values\n",
    "    EMA12_volume = pd.DataFrame({data1[i] : talib.EMA(data2[data1[i]], 12)for i in range(0, len(data1))}, index = volume1.index)\n",
    "    EMA26_volume = pd.DataFrame({data1[i] : talib.EMA(data2[data1[i]], 26) for i in range(0, len(data1))}, index = volume1.index)\n",
    "    \n",
    "    dv.append_df(EMA12_volume,'EMA12_volume')\n",
    "    dv.append_df(EMA26_volume,'EMA26_volume')\n",
    "    VDIFF = dv.add_formula('VDIFF1', 'EMA12_volume - EMA26_volume ', add_data = False, is_quarterly = False)\n",
    "    return(VDIFF)"
   ]
  },
  {
   "cell_type": "code",
   "execution_count": null,
   "metadata": {
    "collapsed": true
   },
   "outputs": [],
   "source": []
  }
 ],
 "metadata": {
  "kernelspec": {
   "display_name": "Python 3",
   "language": "python",
   "name": "python3"
  },
  "language_info": {
   "codemirror_mode": {
    "name": "ipython",
    "version": 3
   },
   "file_extension": ".py",
   "mimetype": "text/x-python",
   "name": "python",
   "nbconvert_exporter": "python",
   "pygments_lexer": "ipython3",
   "version": "3.5.4"
  }
 },
 "nbformat": 4,
 "nbformat_minor": 2
}
