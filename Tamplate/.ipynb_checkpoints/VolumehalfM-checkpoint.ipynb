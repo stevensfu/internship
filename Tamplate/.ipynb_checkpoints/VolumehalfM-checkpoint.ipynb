{
 "cells": [
  {
   "cell_type": "code",
   "execution_count": 1,
   "metadata": {
    "collapsed": true
   },
   "outputs": [],
   "source": [
    "def run_formula(dv, param = None):\n",
    "    defult_param = {'t1': 5, 't2': 30, 't3':30}\n",
    "    if not param:\n",
    "        param = defult_param\n",
    "    VolumehalfM = dv.add_formula('VolumnhalfM', '-((12*(Ts_Sum(volume, %s)/Ts_Sum(volume, %s)))-1)*Return(close_adj, %s)'%(param['t1'], param['t2'], param['t3']),  add_data = False, is_quarterly = False)\n",
    "    return(VolumehalfM)"
   ]
  },
  {
   "cell_type": "code",
   "execution_count": null,
   "metadata": {
    "collapsed": true
   },
   "outputs": [],
   "source": []
  }
 ],
 "metadata": {
  "kernelspec": {
   "display_name": "Python 3",
   "language": "python",
   "name": "python3"
  },
  "language_info": {
   "codemirror_mode": {
    "name": "ipython",
    "version": 3
   },
   "file_extension": ".py",
   "mimetype": "text/x-python",
   "name": "python",
   "nbconvert_exporter": "python",
   "pygments_lexer": "ipython3",
   "version": "3.5.4"
  }
 },
 "nbformat": 4,
 "nbformat_minor": 2
}
