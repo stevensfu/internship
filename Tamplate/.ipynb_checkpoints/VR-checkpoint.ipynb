{
 "cells": [
  {
   "cell_type": "code",
   "execution_count": 2,
   "metadata": {
    "collapsed": true
   },
   "outputs": [],
   "source": [
    "def run_formula(dv, param = None):\n",
    "    defult_param = {'t': 1, 't1': 24}\n",
    "    if not param:\n",
    "        param = defult_param\n",
    "    \n",
    "    BVS = dv.add_formula('BVS', 'Ts_Sum(If(close_adj<Delay(close_adj, %s), volume, 0), %s)'%(param['t'],param['t1']), add_data = True, is_quarterly = False)\n",
    "    AVS = dv.add_formula('AVS', 'Ts_Sum(If(close_adj>Delay(close_adj, %s), volume, 0), %s)'%(param['t'],param['t1']), add_data = True, is_quarterly = False)\n",
    "    CVS = dv.add_formula('CVS', 'Ts_Sum(If(close == Delay(close, %s), volume, 0), %s)'%(param['t'],param['t1']), add_data = True, is_quarterly = False)\n",
    "    VR = dv.add_formula('VR1', '(AVS+CVS/2)/(BVS+CVS/2)', add_data = False, is_quarterly = False)\n",
    "    return(VR)"
   ]
  },
  {
   "cell_type": "code",
   "execution_count": null,
   "metadata": {
    "collapsed": true
   },
   "outputs": [],
   "source": []
  }
 ],
 "metadata": {
  "kernelspec": {
   "display_name": "Python 3",
   "language": "python",
   "name": "python3"
  },
  "language_info": {
   "codemirror_mode": {
    "name": "ipython",
    "version": 3
   },
   "file_extension": ".py",
   "mimetype": "text/x-python",
   "name": "python",
   "nbconvert_exporter": "python",
   "pygments_lexer": "ipython3",
   "version": "3.5.4"
  }
 },
 "nbformat": 4,
 "nbformat_minor": 2
}
