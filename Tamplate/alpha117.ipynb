{
 "cells": [
  {
   "cell_type": "code",
   "execution_count": 3,
   "metadata": {
    "collapsed": true
   },
   "outputs": [],
   "source": [
    "def run_formula(dv, param = None):\n",
    "    defult_param = {'t1': 1, 't2' : 32, 't3': 16, 't4':32}\n",
    "    if not param:\n",
    "        param = defult_param\n",
    "    RET = dv.add_formula('RET', 'Return(close, %s)'%(param['t1']), add_data = True, overwrite= True, is_quarterly = False)\n",
    "    alpha117 = dv.add_formula('alpha117', '((Ts_Rank(volume, %s))*(1-Ts_Rank(((close + high)-low), %s))*(1-Ts_Rank(RET, %s)))'%(param['t2'], param['t3'], param['t4']), add_data = False, is_quarterly = False)\n",
    "    return(alpha117)"
   ]
  },
  {
   "cell_type": "code",
   "execution_count": null,
   "metadata": {
    "collapsed": true
   },
   "outputs": [],
   "source": []
  }
 ],
 "metadata": {
  "kernelspec": {
   "display_name": "Python 3",
   "language": "python",
   "name": "python3"
  },
  "language_info": {
   "codemirror_mode": {
    "name": "ipython",
    "version": 3
   },
   "file_extension": ".py",
   "mimetype": "text/x-python",
   "name": "python",
   "nbconvert_exporter": "python",
   "pygments_lexer": "ipython3",
   "version": "3.5.4"
  }
 },
 "nbformat": 4,
 "nbformat_minor": 2
}
