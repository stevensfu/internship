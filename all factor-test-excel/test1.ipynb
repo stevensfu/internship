{
 "cells": [
  {
   "cell_type": "code",
   "execution_count": 1,
   "metadata": {},
   "outputs": [
    {
     "name": "stderr",
     "output_type": "stream",
     "text": [
      "E:\\New folder\\New folder\\envs\\python35\\lib\\importlib\\__init__.py:126: FutureWarning: The pandas.core.datetools module is deprecated and will be removed in a future version. Please use the pandas.tseries module instead.\n",
      "  return _bootstrap._gcd_import(name[level:], package, level)\n",
      "E:\\New folder\\New folder\\envs\\python35\\lib\\site-packages\\matplotlib\\__init__.py:1405: UserWarning: \n",
      "This call to matplotlib.use() has no effect because the backend has already\n",
      "been chosen; matplotlib.use() must be called *before* pylab, matplotlib.pyplot,\n",
      "or matplotlib.backends is imported for the first time.\n",
      "\n",
      "  warnings.warn(_use_error_msg)\n"
     ]
    },
    {
     "name": "stdout",
     "output_type": "stream",
     "text": [
      "Initialize config success.\n",
      "Query data...\n",
      "Query data - query...\n",
      "NOTE: price adjust method is [post adjust]\n",
      "当前请求daily...\n",
      "{'fields': 'low_adj,symbol,trade_date,close,high_adj,open_adj,open,trade_status,close_adj,vwap_adj,volume,low,high,vwap', 'adjust_mode': None}\n",
      "当前请求daily...\n",
      "{'fields': 'high,open,close,low,vwap,symbol,trade_date', 'adjust_mode': 'post'}\n",
      "当前请求query...\n",
      "{'fields': 'EMA12,DEA,PE,DIFF,EMA26,OperatingProfitRatio,REVS20', 'view': 'factor'}\n",
      "WARNING: some data is unavailable: \n",
      "    At fields 000748.SZ, 600005.SH\n",
      "Query data - daily fields prepared.\n",
      "WARNING: some data is unavailable: \n",
      "    At fields 000748.SZ, 600005.SH\n",
      "Query data - quarterly fields prepared.\n",
      "Query instrument info...\n",
      "Query adj_factor...\n",
      "Data has been successfully prepared.\n"
     ]
    }
   ],
   "source": [
    "import pandas as pd\n",
    "\n",
    "\n",
    "def get_dv(start = 20170101,end = 20180101): \n",
    "    import jaqs_fxdayu\n",
    "    jaqs_fxdayu.patch_all()\n",
    "    from jaqs.data import DataView\n",
    "    from jaqs_fxdayu.data.dataservice import LocalDataService\n",
    "    \n",
    "    import warnings\n",
    "    warnings.filterwarnings(\"ignore\")\n",
    "    \n",
    "    #--------------------------------------------------------\n",
    "    \n",
    "    #define\n",
    "    factor_list  = ['volume', 'EMA12', 'EMA26', 'REVS20', 'DIFF', 'DEA', 'OperatingProfitRatio', 'PE']\n",
    "    check_factor = ','.join(factor_list)\n",
    "    \n",
    "    dataview_folder = 'data'\n",
    "    ds = LocalDataService(fp = dataview_folder)\n",
    "    \n",
    "    ZZ800_id = ds.query_index_member(\"000906.SH\", start, end)\n",
    "    stock_symbol = list(set(ZZ800_id))\n",
    "    \n",
    "    dv_props = {'start_date': start, 'end_date': end, 'symbol':','.join(stock_symbol),\n",
    "             'fields': check_factor,\n",
    "             'freq': 1,\n",
    "             \"prepare_fields\": True}\n",
    "    \n",
    "    dv = DataView()\n",
    "    dv.init_from_config(dv_props, data_api=ds)\n",
    "    dv.prepare_data()\n",
    "    return dv\n",
    "\n",
    "\n",
    "if 'dv' not in dir():\n",
    "    dv = get_dv()"
   ]
  },
  {
   "cell_type": "code",
   "execution_count": 3,
   "metadata": {},
   "outputs": [
    {
     "name": "stdout",
     "output_type": "stream",
     "text": [
      "Field [RET] is overwritten.\n",
      "alpha1171 OK!\n",
      "alpha97 OK!\n",
      "Cor1 OK!\n",
      "MA1 OK!\n",
      "MACD OK!\n",
      "PE20 OK!\n",
      "Rank1 OK!\n",
      "Rank3 OK!\n",
      "REVS1 OK!\n",
      "ROC6 OK!\n",
      "Std20 OK!\n",
      "Field [EMA12_volume] is overwritten.\n",
      "Field [EMA26_volume] is overwritten.\n",
      "VDIFF2 OK!\n",
      "Volume_adv40 OK!\n",
      "volumefactor OK!\n",
      "VolumehalfM OK!\n",
      "Volumn3M OK!\n",
      "Field [BVS] is overwritten.\n",
      "Field [AVS] is overwritten.\n",
      "Field [CVS] is overwritten.\n",
      "VR OK!\n",
      "APBMA OK!\n",
      "Rank4_1 OK!\n",
      "Variable [VOL10] is not recognized (it may be wrong),try to fetch from the server...\n",
      "Query data - query...\n",
      "当前请求query...\n",
      "{'fields': 'VOL10', 'view': 'factor'}\n",
      "WARNING: some data is unavailable: \n",
      "    At fields 000748.SZ, 600005.SH\n",
      "Query data - daily fields prepared.\n",
      "Variable [VOL60] is not recognized (it may be wrong),try to fetch from the server...\n",
      "Query data - query...\n",
      "当前请求query...\n",
      "{'fields': 'VOL60', 'view': 'factor'}\n",
      "WARNING: some data is unavailable: \n",
      "    At fields 000748.SZ, 600005.SH\n",
      "Query data - daily fields prepared.\n",
      "Volrate_1 OK!\n"
     ]
    }
   ],
   "source": [
    "def test(factor,data):\n",
    "    if not isinstance(data, pd.core.frame.DataFrame):\n",
    "        raise TypeError('On factor {} ,output must be a pandas.DataFrame!'.format(factor))\n",
    "    else:\n",
    "        try:\n",
    "            index_name = data.index.names[0]\n",
    "            columns_name = data.index.names[0]\n",
    "        except:\n",
    "            if not (index_name in ['trade_date','report_date'] and columns_name == 'symbol'):\n",
    "                raise NameError('''Error index name,index name must in [\"trade_date\",\"report_date\"],columns name must be \"symbol\" ''')\n",
    "                \n",
    "        index_dtype = data.index.dtype_str\n",
    "        columns_dtype = data.columns.dtype_str\n",
    "        \n",
    "        if columns_dtype not in ['object','str']:\n",
    "            raise TypeError('error columns type')\n",
    "            \n",
    "        if index_dtype not in ['int32','int64','int']:\n",
    "            raise TypeError('error index type')\n",
    "        print ('{} OK!'.format(factor))\n",
    "\n",
    "from Tamplate import alpha1171, Cor1, alpha97, MA1, MACD, PE20, Rank1, Rank3, REVS1, ROC6, Std20, VDIFF2, Volume_adv40, volumefactor, VolumehalfM, Volumn3M, VR, APBMA, Rank4_1, Volrate_1\n",
    "\n",
    "for f in ['alpha1171', 'alpha97', 'Cor1', 'MA1', 'MACD', 'PE20', 'Rank1', 'Rank3', 'REVS1', 'ROC6', 'Std20', 'VDIFF2', 'Volume_adv40', 'volumefactor', 'VolumehalfM', 'Volumn3M', 'VR', 'APBMA', 'Rank4_1', 'Volrate_1']:\n",
    "    test(f, globals()[f].run_formula(dv))"
   ]
  },
  {
   "cell_type": "code",
   "execution_count": null,
   "metadata": {
    "collapsed": true
   },
   "outputs": [],
   "source": []
  },
  {
   "cell_type": "code",
   "execution_count": null,
   "metadata": {
    "collapsed": true
   },
   "outputs": [],
   "source": []
  },
  {
   "cell_type": "code",
   "execution_count": null,
   "metadata": {
    "collapsed": true
   },
   "outputs": [],
   "source": []
  },
  {
   "cell_type": "code",
   "execution_count": null,
   "metadata": {
    "collapsed": true
   },
   "outputs": [],
   "source": []
  }
 ],
 "metadata": {
  "kernelspec": {
   "display_name": "Python 3",
   "language": "python",
   "name": "python3"
  },
  "language_info": {
   "codemirror_mode": {
    "name": "ipython",
    "version": 3
   },
   "file_extension": ".py",
   "mimetype": "text/x-python",
   "name": "python",
   "nbconvert_exporter": "python",
   "pygments_lexer": "ipython3",
   "version": "3.5.4"
  }
 },
 "nbformat": 4,
 "nbformat_minor": 2
}
